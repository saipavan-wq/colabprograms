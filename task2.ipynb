{
  "nbformat": 4,
  "nbformat_minor": 0,
  "metadata": {
    "colab": {
      "provenance": [],
      "authorship_tag": "ABX9TyNrmkFKBVqITA5a/A0540sJ",
      "include_colab_link": true
    },
    "kernelspec": {
      "name": "python3",
      "display_name": "Python 3"
    },
    "language_info": {
      "name": "python"
    }
  },
  "cells": [
    {
      "cell_type": "markdown",
      "metadata": {
        "id": "view-in-github",
        "colab_type": "text"
      },
      "source": [
        "<a href=\"https://colab.research.google.com/github/saipavan-wq/colabprograms/blob/main/task2.ipynb\" target=\"_parent\"><img src=\"https://colab.research.google.com/assets/colab-badge.svg\" alt=\"Open In Colab\"/></a>"
      ]
    },
    {
      "cell_type": "code",
      "execution_count": 1,
      "metadata": {
        "colab": {
          "base_uri": "https://localhost:8080/"
        },
        "id": "KQykd-8cogUo",
        "outputId": "bc9018b8-4357-4d5e-da03-25cc88b5b877"
      },
      "outputs": [
        {
          "output_type": "stream",
          "name": "stdout",
          "text": [
            "Name: saipavan\n",
            "Age: 20\n",
            "City: hyderabad\n"
          ]
        }
      ],
      "source": [
        "# Hardcoded variables\n",
        "name = \"saipavan\"\n",
        "age = 20\n",
        "city = \"hyderabad\"\n",
        "\n",
        "# Output hardcoded data\n",
        "print(f\"Name: {name}\")\n",
        "print(f\"Age: {age}\")\n",
        "print(f\"City: {city}\")"
      ]
    },
    {
      "cell_type": "code",
      "source": [
        "# Keyboard Input\n",
        "user_name = input(\"Enter your name: \")\n",
        "user_age = int(input(\"Enter your age: \"))\n",
        "user_city = input(\"Enter your city: \")\n",
        "\n",
        "# Output user input\n",
        "print(f\"Name: {user_name}\")\n",
        "print(f\"Age: {user_age}\")\n",
        "print(f\"City: {user_city}\")\n"
      ],
      "metadata": {
        "colab": {
          "base_uri": "https://localhost:8080/"
        },
        "id": "ByD-kS29ovnl",
        "outputId": "fc3b1e94-7e7b-491a-caee-737aedd06bd5"
      },
      "execution_count": 2,
      "outputs": [
        {
          "output_type": "stream",
          "name": "stdout",
          "text": [
            "Enter your name: saipavan j\n",
            "Enter your age: 20\n",
            "Enter your city: hyderabad\n",
            "Name: saipavan j\n",
            "Age: 20\n",
            "City: hyderabad\n"
          ]
        }
      ]
    },
    {
      "cell_type": "code",
      "source": [
        "# Create a new text file named 'bio.txt' and write content to it\n",
        "file_name = 'bio.txt'\n",
        "content = '''saipavan,20,Hyderabad,hu22csen0102227\n",
        "'''\n",
        "\n",
        "# Open the file in write mode ('w'), and write content\n",
        "with open(file_name, 'w') as file:\n",
        "    file.write(content)\n",
        "\n",
        "print(f\"File '{file_name}' created successfully with the following content:\")\n",
        "print(content)\n"
      ],
      "metadata": {
        "colab": {
          "base_uri": "https://localhost:8080/"
        },
        "id": "ErVGuYqZpJ1L",
        "outputId": "1e7bbec5-7516-4c69-91a5-71ef8b5253c9"
      },
      "execution_count": 4,
      "outputs": [
        {
          "output_type": "stream",
          "name": "stdout",
          "text": [
            "File 'bio.txt' created successfully with the following content:\n",
            "saipavan,20,Hyderabad,hu22csen0102227\n",
            "\n"
          ]
        }
      ]
    },
    {
      "cell_type": "code",
      "source": [
        "# Create the 'multiple.txt' file with multiple entries, updated with \"Salaar\" and \"Deva\"\n",
        "file_name = 'multiple.txt'\n",
        "content = '''saipavan,20,Hyderabad,hu22csen0102227\n",
        "Salaar,22,Mumbai,hu22csen0102228\n",
        "Deva,21,Delhi,hu22csen0102229\n",
        "'''\n",
        "\n",
        "# Open the file in write mode and write content\n",
        "with open(file_name, 'w') as file:\n",
        "    file.write(content)\n",
        "\n",
        "print(f\"File '{file_name}' created successfully.\")\n"
      ],
      "metadata": {
        "colab": {
          "base_uri": "https://localhost:8080/"
        },
        "id": "SZVdVsBZqW7-",
        "outputId": "4d3c64e8-6d46-41b5-a211-e197de4008ef"
      },
      "execution_count": 5,
      "outputs": [
        {
          "output_type": "stream",
          "name": "stdout",
          "text": [
            "File 'multiple.txt' created successfully.\n"
          ]
        }
      ]
    },
    {
      "cell_type": "code",
      "source": [
        "# Open the file 'multiple.txt' and read its content\n",
        "file_name = 'multiple.txt'\n",
        "\n",
        "# Read multiple inputs from the file\n",
        "with open(file_name, 'r') as file:\n",
        "    lines = file.readlines()\n",
        "\n",
        "# Process each line from the file\n",
        "for line in lines:\n",
        "    # Strip any leading/trailing spaces and split by comma\n",
        "    name, age, city, roll_no = line.strip().split(',')\n",
        "\n",
        "    # Process the values (here, just printing them)\n",
        "    print(f\"Name: {name}\")\n",
        "    print(f\"Age: {age}\")\n",
        "    print(f\"City: {city}\")\n",
        "    print(f\"Roll Number: {roll_no}\")\n",
        "    print(\"-\" * 20)  # Separator for clarity\n"
      ],
      "metadata": {
        "colab": {
          "base_uri": "https://localhost:8080/"
        },
        "id": "NGabyQzJq610",
        "outputId": "7c693e4f-c390-4fe1-bb2d-27591de38bc2"
      },
      "execution_count": 6,
      "outputs": [
        {
          "output_type": "stream",
          "name": "stdout",
          "text": [
            "Name: saipavan\n",
            "Age: 20\n",
            "City: Hyderabad\n",
            "Roll Number: hu22csen0102227\n",
            "--------------------\n",
            "Name: Salaar\n",
            "Age: 22\n",
            "City: Mumbai\n",
            "Roll Number: hu22csen0102228\n",
            "--------------------\n",
            "Name: Deva\n",
            "Age: 21\n",
            "City: Delhi\n",
            "Roll Number: hu22csen0102229\n",
            "--------------------\n"
          ]
        }
      ]
    },
    {
      "cell_type": "code",
      "source": [
        "# Create and save all versions in a single run\n",
        "\n",
        "# Version 1: Hardcoded Values\n",
        "version1_code = '''# Version 1: Hardcoded Values\n",
        "name, age, city, roll_no = 'saipavan', 20, 'Hyderabad', 'hu22csen0102227'\n",
        "print(f\"Name: {name}\\nAge: {age}\\nCity: {city}\\nRoll Number: {roll_no}\")\n",
        "'''\n",
        "with open('version1.py', 'w') as file: file.write(version1_code)\n",
        "\n",
        "# Version 2: Keyboard Input\n",
        "version2_code = '''# Version 2: Keyboard Input\n",
        "name = input(\"Enter your name: \")\n",
        "age = int(input(\"Enter your age: \"))\n",
        "city = input(\"Enter your city: \")\n",
        "roll_no = input(\"Enter your roll number: \")\n",
        "print(f\"Name: {name}\\nAge: {age}\\nCity: {city}\\nRoll Number: {roll_no}\")\n",
        "'''\n",
        "with open('version2.py', 'w') as file: file.write(version2_code)\n",
        "\n",
        "# Version 3: Read Single Input from File\n",
        "version3_code = '''# Version 3: Read Single Input\n",
        "with open('input.txt', 'r') as file:\n",
        "    print(f\"Name from file: {file.readline().strip()}\")\n",
        "'''\n",
        "with open('version3.py', 'w') as file: file.write(version3_code)\n",
        "\n",
        "# Version 4: Read Multiple Inputs from File\n",
        "version4_code = '''# Version 4: Read Multiple Inputs\n",
        "with open('multiple.txt', 'r') as file:\n",
        "    for line in file:\n",
        "        name, age, city, roll_no = line.strip().split(',')\n",
        "        print(f\"Name: {name}\\nAge: {age}\\nCity: {city}\\nRoll Number: {roll_no}\\n{'-'*20}\")\n",
        "'''\n",
        "with open('version4.py', 'w') as file: file.write(version4_code)\n",
        "\n",
        "# Create input.txt for Version 3 (Single Input)\n",
        "with open('input.txt', 'w') as file: file.write('saipavan')\n",
        "\n",
        "# Create multiple.txt for Version 4 (Multiple Inputs)\n",
        "with open('multiple.txt', 'w') as file:\n",
        "    file.write('saipavan,20,Hyderabad,hu22csen0102227\\nSalaar,22,Mumbai,hu22csen0102228\\nDeva,21,Delhi,hu22csen0102229')\n",
        "\n",
        "print(\"All versions and necessary files saved.\")\n"
      ],
      "metadata": {
        "colab": {
          "base_uri": "https://localhost:8080/"
        },
        "id": "RwiDegSNq9Kt",
        "outputId": "e3a7c541-f423-42a7-c5a0-0109e4d24b6e"
      },
      "execution_count": 7,
      "outputs": [
        {
          "output_type": "stream",
          "name": "stdout",
          "text": [
            "All versions and necessary files saved.\n"
          ]
        }
      ]
    },
    {
      "cell_type": "code",
      "source": [
        "# Version 1: Hardcoded Values (No errors expected here)\n",
        "name, age, city, roll_no = 'saipavan', 20, 'Hyderabad', 'hu22csen0102227'\n",
        "print(f\"Name: {name}\\nAge: {age}\\nCity: {city}\\nRoll Number: {roll_no}\")\n",
        "\n",
        "# Version 2: Keyboard Input (Handling incorrect input)\n",
        "try:\n",
        "    name = input(\"Enter your name: \")\n",
        "    age = int(input(\"Enter your age: \"))  # If age is not an integer, it will raise ValueError\n",
        "    city = input(\"Enter your city: \")\n",
        "    roll_no = input(\"Enter your roll number: \")\n",
        "    print(f\"Name: {name}\\nAge: {age}\\nCity: {city}\\nRoll Number: {roll_no}\")\n",
        "except ValueError:\n",
        "    print(\"Invalid input! Age must be an integer.\")\n",
        "except Exception as e:\n",
        "    print(f\"An error occurred: {e}\")\n",
        "\n",
        "# Version 3: Read Single Input from File (Handle missing file)\n",
        "try:\n",
        "    with open('input.txt', 'r') as file:\n",
        "        name_from_file = file.readline().strip()\n",
        "        print(f\"Name from file: {name_from_file}\")\n",
        "except FileNotFoundError:\n",
        "    print(\"Error: 'input.txt' file not found.\")\n",
        "except Exception as e:\n",
        "    print(f\"An unexpected error occurred: {e}\")\n",
        "\n",
        "# Version 4: Read Multiple Inputs from File (Handle missing file and incorrect format)\n",
        "try:\n",
        "    with open('multiple.txt', 'r') as file:\n",
        "        for line in file:\n",
        "            try:\n",
        "                name, age, city, roll_no = line.strip().split(',')\n",
        "                print(f\"Name: {name}\\nAge: {age}\\nCity: {city}\\nRoll Number: {roll_no}\\n{'-'*20}\")\n",
        "            except ValueError:\n",
        "                print(\"Error: Incorrect format in 'multiple.txt'. Expected 4 values per line.\")\n",
        "except FileNotFoundError:\n",
        "    print(\"Error: 'multiple.txt' file not found.\")\n",
        "except Exception as e:\n",
        "    print(f\"An unexpected error occurred: {e}\")\n"
      ],
      "metadata": {
        "colab": {
          "base_uri": "https://localhost:8080/"
        },
        "id": "tMHVYOkOsWV8",
        "outputId": "e2d65202-b0b2-46ca-df13-770e0d8a8bc3"
      },
      "execution_count": 9,
      "outputs": [
        {
          "output_type": "stream",
          "name": "stdout",
          "text": [
            "Name: saipavan\n",
            "Age: 20\n",
            "City: Hyderabad\n",
            "Roll Number: hu22csen0102227\n",
            "Enter your name: saipavanj\n",
            "Enter your age: 20\n",
            "Enter your city: chennai\n",
            "Enter your roll number: hu22csen0102237\n",
            "Name: saipavanj\n",
            "Age: 20\n",
            "City: chennai\n",
            "Roll Number: hu22csen0102237\n",
            "Name from file: saipavan\n",
            "Error: Incorrect format in 'multiple.txt'. Expected 4 values per line.\n",
            "Error: Incorrect format in 'multiple.txt'. Expected 4 values per line.\n"
          ]
        }
      ]
    }
  ]
}