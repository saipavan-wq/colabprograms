{
  "nbformat": 4,
  "nbformat_minor": 0,
  "metadata": {
    "colab": {
      "provenance": [],
      "authorship_tag": "ABX9TyM+ryhOAlZn2/taq/bIxUAa",
      "include_colab_link": true
    },
    "kernelspec": {
      "name": "python3",
      "display_name": "Python 3"
    },
    "language_info": {
      "name": "python"
    }
  },
  "cells": [
    {
      "cell_type": "markdown",
      "metadata": {
        "id": "view-in-github",
        "colab_type": "text"
      },
      "source": [
        "<a href=\"https://colab.research.google.com/github/saipavan-wq/colabprograms/blob/main/weather_modeling.ipynb\" target=\"_parent\"><img src=\"https://colab.research.google.com/assets/colab-badge.svg\" alt=\"Open In Colab\"/></a>"
      ]
    },
    {
      "cell_type": "code",
      "execution_count": null,
      "metadata": {
        "id": "AKFTz3et2Cda"
      },
      "outputs": [],
      "source": [
        "def Temperature_modeling(a, b, c, time):\n",
        "    temperature = a * time**2 + b * time + c\n",
        "    return temperature\n"
      ]
    },
    {
      "cell_type": "code",
      "source": [
        "a, b, c = 0.1, 2, 10\n",
        "time = 5\n",
        "\n",
        "print(\"Hard-coded variables for weather modeling:\")\n",
        "temperature = Temperature_modeling(a, b, c, time)\n",
        "print(f\"Temperature for hardcoded coefficients at time {time} hours: {temperature}°C\\n\")\n"
      ],
      "metadata": {
        "colab": {
          "base_uri": "https://localhost:8080/"
        },
        "id": "I3gxzF_e2g_C",
        "outputId": "10d71b29-afb8-4878-cb62-0020f26d3291"
      },
      "execution_count": null,
      "outputs": [
        {
          "output_type": "stream",
          "name": "stdout",
          "text": [
            "Hard-coded variables for weather modeling:\n",
            "Temperature for hardcoded coefficients at time 5 hours: 22.5°C\n",
            "\n"
          ]
        }
      ]
    },
    {
      "cell_type": "code",
      "source": [
        "print(\"Enter coefficients for the quadratic equation:\")\n",
        "try:\n",
        "    a_input = float(input(\"Enter coefficient a: \"))\n",
        "    b_input = float(input(\"Enter coefficient b: \"))\n",
        "    c_input = float(input(\"Enter coefficient c: \"))\n",
        "    time_input = float(input(\"Enter time (hours): \"))\n",
        "\n",
        "    temperature_input = Temperature_modeling(a_input, b_input, c_input, time_input)\n",
        "    print(f\"Temperature for input coefficients at time {time_input} hours: {temperature_input}°C\")\n",
        "except ValueError:\n",
        "    print(\"Invalid input! Please make sure to enter numerical values.\")\n"
      ],
      "metadata": {
        "colab": {
          "base_uri": "https://localhost:8080/"
        },
        "id": "JJ0I8orm2mio",
        "outputId": "45bda465-f8fa-4e26-a992-b940b08a4d18"
      },
      "execution_count": null,
      "outputs": [
        {
          "output_type": "stream",
          "name": "stdout",
          "text": [
            "Enter coefficients for the quadratic equation:\n",
            "Enter coefficient a: 0.2\n",
            "Enter coefficient b: 1.5\n",
            "Enter coefficient c: 8\n",
            "Enter time (hours): 4\n",
            "Temperature for input coefficients at time 4.0 hours: 17.2°C\n"
          ]
        }
      ]
    },
    {
      "cell_type": "code",
      "source": [
        "\n",
        "file_content = \"\"\"0.2 1.5 8 4\n",
        "0.1 2 10 5\n",
        "0.3 1.8 7 6\n",
        "\"\"\"\n",
        "\n",
        "\n",
        "with open('input_data.txt', 'w') as file:\n",
        "    file.write(file_content)\n",
        "\n",
        "print(\"File 'input_data.txt' created successfully.\")\n"
      ],
      "metadata": {
        "colab": {
          "base_uri": "https://localhost:8080/"
        },
        "id": "mro449rl4Z6F",
        "outputId": "93316c76-56fd-438c-ee42-c092b7bac02e"
      },
      "execution_count": null,
      "outputs": [
        {
          "output_type": "stream",
          "name": "stdout",
          "text": [
            "File 'input_data.txt' created successfully.\n"
          ]
        }
      ]
    },
    {
      "cell_type": "code",
      "source": [
        "def Temperature_modeling(a, b, c, time):\n",
        "    temperature = a * time**2 + b * time + c\n",
        "    return temperature\n",
        "\n",
        "def process_data_from_file(filename):\n",
        "    try:\n",
        "        with open(filename, 'r') as file:\n",
        "            lines = file.readlines()\n",
        "            for line in lines:\n",
        "                a, b, c, time = map(float, line.split())\n",
        "                temperature = Temperature_modeling(a, b, c, time)\n",
        "                print(f\"Temperature for coefficients a={a}, b={b}, c={c} at time {time} hours: {temperature}°C\")\n",
        "\n",
        "    except FileNotFoundError:\n",
        "        print(f\"The file {filename} was not found.\")\n",
        "    except ValueError:\n",
        "        print(\"There was an issue with the format of the data in the file.\")\n",
        "\n",
        "# Process the file 'input_data.txt'\n",
        "filename = 'input_data.txt'\n",
        "process_data_from_file(filename)\n"
      ],
      "metadata": {
        "colab": {
          "base_uri": "https://localhost:8080/"
        },
        "id": "8jPu-vKZ4hAr",
        "outputId": "df403748-962e-4850-c4b1-1871125558f4"
      },
      "execution_count": null,
      "outputs": [
        {
          "output_type": "stream",
          "name": "stdout",
          "text": [
            "Temperature for coefficients a=0.2, b=1.5, c=8.0 at time 4.0 hours: 17.2°C\n",
            "Temperature for coefficients a=0.1, b=2.0, c=10.0 at time 5.0 hours: 22.5°C\n",
            "Temperature for coefficients a=0.3, b=1.8, c=7.0 at time 6.0 hours: 28.6°C\n"
          ]
        }
      ]
    }
  ]
}